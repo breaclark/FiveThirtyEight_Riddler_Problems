{
 "cells": [
  {
   "cell_type": "markdown",
   "metadata": {},
   "source": [
    "### The Premise: http://fivethirtyeight.com/features/can-you-best-the-mysterious-man-in-the-trench-coat/\n",
    "### Basically, if you guess the correct number between 1 and 1000, you get that amount of money.\n",
    "\n",
    "### Let's start with the basic approach. Say you start with 500, and you're going to do a binary search, where you guess 500, he says higher or lower, then you pick the number in the middle there (either 250 or 750), etc. \n",
    "\n",
    "### The problem there is that once you get to your 4th guess (and onward), there is not an exact middle number to guess. So maybe you just round up each time and keep going, and on your 9th guess you have at best a 33% chance of getting the money, which is not bad. \n",
    "\n",
    "### But we could make it better by maximizing these guesses where you would otherwise just round up a number. If you were to originally pick a number a little higher up, then you would eliminate those times where you just round up, getting you a more accurate 9th guess. Let's start with the number 512. 512 = 2^9. This is significant because that means that every step of the way, we will have a middle number to guess, and will not \"waste\" a guess on a non-middle number. \n"
   ]
  },
  {
   "cell_type": "code",
   "execution_count": 68,
   "metadata": {
    "collapsed": false
   },
   "outputs": [],
   "source": [
    "import random"
   ]
  },
  {
   "cell_type": "code",
   "execution_count": 70,
   "metadata": {
    "collapsed": false
   },
   "outputs": [
    {
     "name": "stdout",
     "output_type": "stream",
     "text": [
      "292\n",
      "1 Your guess is 512\n",
      "Mystery man says lower\n",
      "2 Your guess is 256\n",
      "Mystery man says higher\n",
      "3 Your guess is 384\n",
      "Mystery man says lower\n",
      "4 Your guess is 320\n",
      "Mystery man says lower\n",
      "5 Your guess is 288\n",
      "Mystery man says higher\n",
      "6 Your guess is 304\n",
      "Mystery man says lower\n",
      "7 Your guess is 296\n",
      "Mystery man says lower\n",
      "8 Your guess is 292\n",
      "You've won!!\n"
     ]
    },
    {
     "data": {
      "text/plain": [
       "True"
      ]
     },
     "execution_count": 70,
     "metadata": {},
     "output_type": "execute_result"
    }
   ],
   "source": [
    "# call mystery_num_guesser(1) for it to print out the statements.\n",
    "# just call mystery_num_guesser() for no printing\n",
    "def mystery_num_guesser(printer=0):\n",
    "    mystery_num = random.randrange(1,1001)\n",
    "    your_guess = 512\n",
    "    mystery_man_answer = \"\"\n",
    "    higher = 1000\n",
    "    lower = 0\n",
    "\n",
    "    if printer ==1: print mystery_num\n",
    "\n",
    "    for i in range(9):\n",
    "        if printer ==1: print( str(i+1) +\" Your guess is \" + str(your_guess))\n",
    "        if your_guess != mystery_num:\n",
    "            if your_guess > mystery_num:\n",
    "                mystery_man_answer = \"lower\"\n",
    "                higher = your_guess\n",
    "                your_guess -= (higher-lower)/2\n",
    "            else:\n",
    "                mystery_man_answer = \"higher\"\n",
    "                lower = your_guess\n",
    "                your_guess += (higher-lower)/2\n",
    "            if printer ==1: print(\"Mystery man says \" + mystery_man_answer)\n",
    "        else:\n",
    "            if printer ==1: print(\"You've won!!\")\n",
    "            return True\n",
    "            break\n",
    "    return False\n",
    "\n",
    "mystery_num_guesser(1)"
   ]
  },
  {
   "cell_type": "code",
   "execution_count": 71,
   "metadata": {
    "collapsed": false
   },
   "outputs": [
    {
     "data": {
      "text/plain": [
       "51041"
      ]
     },
     "execution_count": 71,
     "metadata": {},
     "output_type": "execute_result"
    }
   ],
   "source": [
    "chance = 0\n",
    "for i in range(100000):\n",
    "    if mystery_num_guesser():\n",
    "        chance+= 1\n",
    "        \n",
    "chance"
   ]
  },
  {
   "cell_type": "markdown",
   "metadata": {},
   "source": [
    "### As you can see, we've increased our chances to around 51%"
   ]
  },
  {
   "cell_type": "code",
   "execution_count": null,
   "metadata": {
    "collapsed": true
   },
   "outputs": [],
   "source": []
  }
 ],
 "metadata": {
  "kernelspec": {
   "display_name": "Python 2",
   "language": "python",
   "name": "python2"
  },
  "language_info": {
   "codemirror_mode": {
    "name": "ipython",
    "version": 2
   },
   "file_extension": ".py",
   "mimetype": "text/x-python",
   "name": "python",
   "nbconvert_exporter": "python",
   "pygments_lexer": "ipython2",
   "version": "2.7.11"
  }
 },
 "nbformat": 4,
 "nbformat_minor": 0
}
