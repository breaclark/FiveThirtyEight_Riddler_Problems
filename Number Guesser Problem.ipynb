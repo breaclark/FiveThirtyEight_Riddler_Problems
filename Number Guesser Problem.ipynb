{
 "cells": [
  {
   "cell_type": "markdown",
   "metadata": {},
   "source": [
    "### The Premise: http://fivethirtyeight.com/features/can-you-best-the-mysterious-man-in-the-trench-coat/\n",
    "### Basically, if you guess the correct number between 1 and 1000, you get that amount of money.\n",
    "\n",
    "### Let's start with the basic approach. Say you start with 500, and you're going to do a binary search, where you guess 500, he says higher or lower, then you pick the number in the middle there (either 250 or 750), etc. \n",
    "\n",
    "### The problem there is that once you get to your 4th guess (and onward), there is not an exact middle number to guess. So maybe you just round up each time and keep going, and on your 9th guess you have at best a 33% chance of getting the money, which is not bad. \n",
    "\n",
    "### But we could make it better by maximizing these guesses where you would otherwise just round up a number. If you were to originally pick a number a little higher up, then you would eliminate those times where you just round up, getting you a more accurate 9th guess. Let's start with the number 512. 512 = 2^9. This is significant because that means that every step of the way, we will have a middle number to guess, and will not \"waste\" a guess on a non-middle number. \n"
   ]
  },
  {
   "cell_type": "code",
   "execution_count": 3,
   "metadata": {
    "collapsed": false
   },
   "outputs": [],
   "source": [
    "import random"
   ]
  },
  {
   "cell_type": "code",
   "execution_count": 5,
   "metadata": {
    "collapsed": false
   },
   "outputs": [
    {
     "name": "stdout",
     "output_type": "stream",
     "text": [
      "717\n",
      "1 Your guess is 512\n",
      "Mystery man says higher\n",
      "2 Your guess is 756\n",
      "Mystery man says lower\n",
      "3 Your guess is 634\n",
      "Mystery man says higher\n",
      "4 Your guess is 695\n",
      "Mystery man says higher\n",
      "5 Your guess is 725\n",
      "Mystery man says lower\n",
      "6 Your guess is 710\n",
      "Mystery man says higher\n",
      "7 Your guess is 717\n",
      "You've won!!\n"
     ]
    },
    {
     "data": {
      "text/plain": [
       "True"
      ]
     },
     "execution_count": 5,
     "metadata": {},
     "output_type": "execute_result"
    }
   ],
   "source": [
    "# call mystery_num_guesser(1) for it to print out the statements.\n",
    "# just call mystery_num_guesser() for no printing\n",
    "def mystery_num_guesser(printer=0, your_guess=512, mystery_num=random.randrange(1,1001)):\n",
    "    mystery_man_answer = \"\"\n",
    "    higher = 1000\n",
    "    lower = 0\n",
    "\n",
    "    if printer ==1: print mystery_num\n",
    "\n",
    "    for i in range(9):\n",
    "        if printer ==1: print( str(i+1) +\" Your guess is \" + str(your_guess))\n",
    "        if your_guess != mystery_num:\n",
    "            if your_guess > mystery_num:\n",
    "                mystery_man_answer = \"lower\"\n",
    "                higher = your_guess\n",
    "                your_guess -= (higher-lower)/2\n",
    "            else:\n",
    "                mystery_man_answer = \"higher\"\n",
    "                lower = your_guess\n",
    "                your_guess += (higher-lower)/2\n",
    "            if printer ==1: print(\"Mystery man says \" + mystery_man_answer)\n",
    "        else:\n",
    "            if printer ==1: print(\"You've won!!\")\n",
    "            return True\n",
    "            break\n",
    "    return False\n",
    "\n",
    "mystery_num_guesser(1)"
   ]
  },
  {
   "cell_type": "code",
   "execution_count": 75,
   "metadata": {
    "collapsed": false
   },
   "outputs": [
    {
     "data": {
      "text/plain": [
       "51260"
      ]
     },
     "execution_count": 75,
     "metadata": {},
     "output_type": "execute_result"
    }
   ],
   "source": [
    "chance = 0\n",
    "for i in range(100000):\n",
    "    if mystery_num_guesser():\n",
    "        chance+= 1\n",
    "        \n",
    "chance"
   ]
  },
  {
   "cell_type": "markdown",
   "metadata": {},
   "source": [
    "### As you can see, we've increased our chances to around 51% But what about the  \"maximizing the winnings\" part? Let's check the chances of guessing any number (based on the first guess), and the chances of guessing higher numbers"
   ]
  },
  {
   "cell_type": "code",
   "execution_count": 43,
   "metadata": {
    "collapsed": false
   },
   "outputs": [],
   "source": [
    "def chance_checker(best_total = 510, best_high_total = 300, lower_limit = 500):\n",
    "    best_start = []\n",
    "    for j in range(512,1001):\n",
    "        each_chance=[]\n",
    "        for i in range(1,1001):\n",
    "            each_chance.append(mystery_num_guesser(your_guess=j, mystery_num=i))\n",
    "        total = sum(each_chance)\n",
    "        high_total = sum(each_chance[lower_limit:1000])\n",
    "        if total > best_total and high_total > best_high_total:\n",
    "            best_start.append([j,total, high_total])\n",
    "    return best_start"
   ]
  },
  {
   "cell_type": "code",
   "execution_count": 44,
   "metadata": {
    "collapsed": false,
    "scrolled": false
   },
   "outputs": [
    {
     "data": {
      "text/plain": [
       "[[608, 511, 301],\n",
       " [609, 511, 301],\n",
       " [610, 511, 301],\n",
       " [611, 511, 302],\n",
       " [612, 511, 302],\n",
       " [613, 511, 303],\n",
       " [614, 511, 303],\n",
       " [615, 511, 303],\n",
       " [616, 511, 304],\n",
       " [617, 511, 304],\n",
       " [618, 511, 304],\n",
       " [619, 511, 304],\n",
       " [620, 511, 305],\n",
       " [621, 511, 305],\n",
       " [622, 511, 305],\n",
       " [623, 511, 306],\n",
       " [624, 511, 306],\n",
       " [625, 511, 307],\n",
       " [626, 511, 307],\n",
       " [627, 511, 307],\n",
       " [628, 511, 307],\n",
       " [629, 511, 308],\n",
       " [630, 511, 308],\n",
       " [631, 511, 308],\n",
       " [632, 511, 309],\n",
       " [633, 511, 309],\n",
       " [634, 511, 309],\n",
       " [635, 511, 310],\n",
       " [636, 511, 310],\n",
       " [637, 511, 311],\n",
       " [638, 511, 311],\n",
       " [639, 511, 311],\n",
       " [640, 511, 311],\n",
       " [641, 511, 312],\n",
       " [642, 511, 312],\n",
       " [643, 511, 312],\n",
       " [644, 511, 312],\n",
       " [645, 511, 313],\n",
       " [646, 511, 313],\n",
       " [647, 511, 314],\n",
       " [648, 511, 314],\n",
       " [649, 511, 315],\n",
       " [650, 511, 315],\n",
       " [651, 511, 315],\n",
       " [652, 511, 315],\n",
       " [653, 511, 316],\n",
       " [654, 511, 316],\n",
       " [655, 511, 316],\n",
       " [656, 511, 316],\n",
       " [657, 511, 317],\n",
       " [658, 511, 317],\n",
       " [659, 511, 317],\n",
       " [660, 511, 318],\n",
       " [661, 511, 318],\n",
       " [662, 511, 318],\n",
       " [663, 511, 318],\n",
       " [664, 511, 319],\n",
       " [665, 511, 319],\n",
       " [666, 511, 319],\n",
       " [667, 511, 319],\n",
       " [668, 511, 320],\n",
       " [669, 511, 320],\n",
       " [670, 511, 320],\n",
       " [671, 511, 320],\n",
       " [672, 511, 321],\n",
       " [673, 511, 321],\n",
       " [674, 511, 321],\n",
       " [675, 511, 321],\n",
       " [676, 511, 322],\n",
       " [677, 511, 322],\n",
       " [678, 511, 322],\n",
       " [679, 511, 323],\n",
       " [680, 511, 323],\n",
       " [681, 511, 323],\n",
       " [682, 511, 323],\n",
       " [683, 511, 324],\n",
       " [684, 511, 324],\n",
       " [685, 511, 324],\n",
       " [686, 511, 324],\n",
       " [687, 511, 325],\n",
       " [688, 511, 325],\n",
       " [689, 511, 326],\n",
       " [690, 511, 326],\n",
       " [691, 511, 326],\n",
       " [692, 511, 326],\n",
       " [693, 511, 327],\n",
       " [694, 511, 327],\n",
       " [695, 511, 327],\n",
       " [696, 511, 327],\n",
       " [697, 511, 328],\n",
       " [698, 511, 328],\n",
       " [699, 511, 328],\n",
       " [700, 511, 328],\n",
       " [701, 511, 329],\n",
       " [702, 511, 329],\n",
       " [703, 511, 329],\n",
       " [704, 511, 329],\n",
       " [705, 511, 330],\n",
       " [706, 511, 330],\n",
       " [707, 511, 330],\n",
       " [708, 511, 331],\n",
       " [709, 511, 331],\n",
       " [710, 511, 331],\n",
       " [711, 511, 331],\n",
       " [712, 511, 331],\n",
       " [713, 511, 332],\n",
       " [714, 511, 332],\n",
       " [715, 511, 332],\n",
       " [716, 511, 332],\n",
       " [717, 511, 333],\n",
       " [718, 511, 333],\n",
       " [719, 511, 333],\n",
       " [720, 511, 334],\n",
       " [721, 511, 334],\n",
       " [722, 511, 334],\n",
       " [723, 511, 334],\n",
       " [724, 511, 335],\n",
       " [725, 511, 335],\n",
       " [726, 511, 335],\n",
       " [727, 511, 335],\n",
       " [728, 511, 335],\n",
       " [729, 511, 336],\n",
       " [730, 511, 336],\n",
       " [731, 511, 336],\n",
       " [732, 511, 336],\n",
       " [733, 511, 337],\n",
       " [734, 511, 337],\n",
       " [735, 511, 337],\n",
       " [736, 511, 337],\n",
       " [737, 511, 338],\n",
       " [738, 511, 338],\n",
       " [739, 511, 338],\n",
       " [740, 511, 338],\n",
       " [741, 511, 339],\n",
       " [742, 511, 339],\n",
       " [743, 511, 339],\n",
       " [744, 511, 339]]"
      ]
     },
     "execution_count": 44,
     "metadata": {},
     "output_type": "execute_result"
    }
   ],
   "source": [
    "chance_checker()"
   ]
  },
  {
   "cell_type": "code",
   "execution_count": 45,
   "metadata": {
    "collapsed": false
   },
   "outputs": [
    {
     "data": {
      "text/plain": [
       "[[684, 511, 201],\n",
       " [685, 511, 202],\n",
       " [686, 511, 203],\n",
       " [687, 511, 203],\n",
       " [688, 511, 204],\n",
       " [689, 511, 205],\n",
       " [690, 511, 206],\n",
       " [691, 511, 207],\n",
       " [692, 511, 207],\n",
       " [693, 511, 208],\n",
       " [694, 511, 208],\n",
       " [695, 511, 208],\n",
       " [696, 511, 209],\n",
       " [697, 511, 210],\n",
       " [698, 511, 211],\n",
       " [699, 511, 211],\n",
       " [700, 511, 212],\n",
       " [701, 511, 213],\n",
       " [702, 511, 214],\n",
       " [703, 511, 214],\n",
       " [704, 511, 215],\n",
       " [705, 511, 216],\n",
       " [706, 511, 217],\n",
       " [707, 511, 218],\n",
       " [708, 511, 219],\n",
       " [709, 511, 220],\n",
       " [710, 511, 221],\n",
       " [711, 511, 221],\n",
       " [712, 511, 222],\n",
       " [713, 511, 223],\n",
       " [714, 511, 223],\n",
       " [715, 511, 224],\n",
       " [716, 511, 224],\n",
       " [717, 511, 225],\n",
       " [718, 511, 226],\n",
       " [719, 511, 226],\n",
       " [720, 511, 227],\n",
       " [721, 511, 228],\n",
       " [722, 511, 229],\n",
       " [723, 511, 230],\n",
       " [724, 511, 231],\n",
       " [725, 511, 232],\n",
       " [726, 511, 233],\n",
       " [727, 511, 233],\n",
       " [728, 511, 234],\n",
       " [729, 511, 235],\n",
       " [730, 511, 236],\n",
       " [731, 511, 237],\n",
       " [732, 511, 238],\n",
       " [733, 511, 239],\n",
       " [734, 511, 240],\n",
       " [735, 511, 241],\n",
       " [736, 511, 242],\n",
       " [737, 511, 243],\n",
       " [738, 511, 244],\n",
       " [739, 511, 245],\n",
       " [740, 511, 246],\n",
       " [741, 511, 247],\n",
       " [742, 511, 248],\n",
       " [743, 511, 248],\n",
       " [744, 511, 249]]"
      ]
     },
     "execution_count": 45,
     "metadata": {},
     "output_type": "execute_result"
    }
   ],
   "source": [
    "chance_checker(best_high_total = 200, lower_limit = 750)\n"
   ]
  },
  {
   "cell_type": "markdown",
   "metadata": {},
   "source": [
    "### It turns out that \n",
    "# 744 \n",
    "### is the number to start guessing with if you want to have a better chance at getting a larger amount of money. By guessing 744, you still have a 51% chance of guessing any number correctly, but you have 99% chance of guessing the number if its between 750 and 1000, or a 67% chance of guessing the number if its between 500 and 1000. "
   ]
  },
  {
   "cell_type": "code",
   "execution_count": null,
   "metadata": {
    "collapsed": true
   },
   "outputs": [],
   "source": []
  }
 ],
 "metadata": {
  "kernelspec": {
   "display_name": "Python 2",
   "language": "python",
   "name": "python2"
  },
  "language_info": {
   "codemirror_mode": {
    "name": "ipython",
    "version": 2
   },
   "file_extension": ".py",
   "mimetype": "text/x-python",
   "name": "python",
   "nbconvert_exporter": "python",
   "pygments_lexer": "ipython2",
   "version": "2.7.11"
  }
 },
 "nbformat": 4,
 "nbformat_minor": 0
}
